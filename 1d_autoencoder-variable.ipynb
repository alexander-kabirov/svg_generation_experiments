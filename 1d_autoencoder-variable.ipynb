{
 "cells": [
  {
   "cell_type": "code",
   "execution_count": null,
   "metadata": {},
   "outputs": [],
   "source": [
    "from IPython.display import SVG\n",
    "import svgwrite\n",
    "import numpy as np\n",
    "import os\n",
    "import random\n",
    "import pandas as pd\n",
    "from random import randint\n",
    "import math\n",
    "import torch\n",
    "import torch.nn as nn\n",
    "import torch.nn.functional as F\n",
    "from torch.autograd import Variable\n",
    "import numpy as np\n",
    "from torch.distributions.categorical import Categorical\n",
    "from torch.distributions.normal import Normal\n",
    "from torch.distributions.multivariate_normal import MultivariateNormal\n",
    "import warnings\n",
    "import cmath\n",
    "from svgpathtools import *\n",
    "import math"
   ]
  },
  {
   "cell_type": "code",
   "execution_count": null,
   "metadata": {},
   "outputs": [],
   "source": [
    "from PIL import Image, ImageDraw\n",
    "from PIL.ImagePalette import ImagePalette"
   ]
  },
  {
   "cell_type": "code",
   "execution_count": null,
   "metadata": {},
   "outputs": [],
   "source": [
    "from cairosvg.parser import Tree\n",
    "import cairo"
   ]
  },
  {
   "cell_type": "code",
   "execution_count": null,
   "metadata": {},
   "outputs": [],
   "source": [
    "import cairosvg"
   ]
  },
  {
   "cell_type": "code",
   "execution_count": null,
   "metadata": {},
   "outputs": [],
   "source": [
    "from deepsvg.svglib.utils import to_gif"
   ]
  },
  {
   "cell_type": "code",
   "execution_count": null,
   "metadata": {},
   "outputs": [],
   "source": [
    "import deepsvg.svglib.svg"
   ]
  },
  {
   "cell_type": "code",
   "execution_count": null,
   "metadata": {},
   "outputs": [],
   "source": [
    "#import pytorch_lightning as pl"
   ]
  },
  {
   "cell_type": "code",
   "execution_count": null,
   "metadata": {},
   "outputs": [],
   "source": [
    "cuda0 = torch.device('cuda:0')"
   ]
  },
  {
   "cell_type": "code",
   "execution_count": null,
   "metadata": {},
   "outputs": [],
   "source": [
    "rotation_matrix = lambda angle: torch.tensor([[np.cos(angle),-np.sin(angle)],[np.sin(angle),np.cos(angle)]])\n",
    "flip_x_matrix = torch.tensor([[-1.0,0.0],[0.0,1.0]])\n",
    "flip_y_matrix = torch.tensor([[1.0,0.0],[0.0,-1.0]])\n",
    "flip_o_matrix = torch.tensor([[-1.0,0.0],[0.0,-1.0]])\n",
    "flip_xy_matrix = torch.tensor([[0.0,1.0],[1.0,0.0]])\n",
    "scale_x_matrix = lambda scale_x: torch.tensor([[scale_x,0.0],[0,1.0]]) #scale x\n",
    "scale_y_matrix = lambda scale_y: torch.tensor([[1,0],[0,scale_y]]) # scale y\n",
    "scale_xy_matrix = lambda scale_x,scale_y: torch.tensor([[scale_x,0],[0,scale_y]]) #scale xy\n",
    "skew_x_matrix = lambda scale_x: torch.tensor([[1,scale_x],[0,1]]) #skew x\n",
    "skew_y_matrix = lambda scale_y: torch.tensor([[1,0],[scale_y,1]]) #skew y \n",
    "skew_xy_matrix = lambda scale_x,scale_y: torch.tensor([[1,scale_x],[scale_y,1]]) #skew xy"
   ]
  },
  {
   "cell_type": "code",
   "execution_count": null,
   "metadata": {},
   "outputs": [],
   "source": [
    "#precent = 100\n",
    "#variance =0.6\n",
    "#print(f'The variance is different by {precent}% and {\"yes\" if variance >0.5 else \"no\"}')"
   ]
  },
  {
   "cell_type": "code",
   "execution_count": null,
   "metadata": {},
   "outputs": [],
   "source": [
    "transformed_tensor = lambda tensor,matrix: torch.mm(tensor,matrix)"
   ]
  },
  {
   "cell_type": "code",
   "execution_count": null,
   "metadata": {},
   "outputs": [],
   "source": [
    "paths, attributes, svg_attributes = svg2paths2('Minisample/leaves_base_2.svg')"
   ]
  },
  {
   "cell_type": "code",
   "execution_count": null,
   "metadata": {},
   "outputs": [],
   "source": [
    "attributes[0]['style']"
   ]
  },
  {
   "cell_type": "code",
   "execution_count": null,
   "metadata": {},
   "outputs": [],
   "source": [
    "svg_attributes"
   ]
  },
  {
   "cell_type": "code",
   "execution_count": null,
   "metadata": {},
   "outputs": [],
   "source": [
    "wsvg(paths[0],filename='variable_01.svg')"
   ]
  },
  {
   "cell_type": "code",
   "execution_count": null,
   "metadata": {},
   "outputs": [],
   "source": [
    "len(paths)"
   ]
  },
  {
   "cell_type": "code",
   "execution_count": null,
   "metadata": {},
   "outputs": [],
   "source": [
    "def perform_transformations(points):\n",
    "    figures = [torch.unsqueeze(points,0)]\n",
    "    #figures.append(torch.unsqueeze(transformed_tensor(points,flip_x_matrix),0))\n",
    "    #figures.append(torch.unsqueeze(transformed_tensor(points,flip_y_matrix),0))\n",
    "    #figures.append(torch.unsqueeze(transformed_tensor(points,flip_o_matrix),0))\n",
    "    #figures.append(torch.unsqueeze(transformed_tensor(points,flip_xy_matrix),0))\n",
    "    return figures"
   ]
  },
  {
   "cell_type": "code",
   "execution_count": null,
   "metadata": {},
   "outputs": [],
   "source": [
    "n_seg = 584 #296#152 #produces equally sized vectors\n",
    "ts = np.array(range(n_seg+1))*1/n_seg\n",
    "figures = []\n",
    "for path in paths:\n",
    "    wsvg(path,filename='variable_01.svg')\n",
    "    plant = deepsvg.svglib.svg.SVG.load_svg('variable_01.svg').normalize().canonicalize()\n",
    "    plant.save_svg('variable_01.svg')\n",
    "    path, _, _ = svg2paths2('variable_01.svg')\n",
    "    path = path[0]\n",
    "    points = torch.tensor([[path.point(t).real,path.point(t).imag] for t in ts]).float()\n",
    "    figures += perform_transformations(points)\n",
    "training_data = torch.cat(figures).to(cuda0) #dtype=torch.float,device=cuda0\n",
    "training_data = training_data[:,1:,:] - training_data[:,:-1,:] #OPTIONAL\n",
    "training_data = training_data.permute((0,2,1))\n",
    "training_data.shape"
   ]
  },
  {
   "cell_type": "code",
   "execution_count": null,
   "metadata": {},
   "outputs": [],
   "source": [
    "inputs = []\n",
    "for path in paths:\n",
    "    wsvg(path,filename='variable_01.svg')\n",
    "    plant = deepsvg.svglib.svg.SVG.load_svg('variable_01.svg').normalize().canonicalize()\n",
    "    plant.save_svg('variable_01.svg')\n",
    "    path, _, _ = svg2paths2('variable_01.svg')\n",
    "    path = path[0]\n",
    "    end_points = [path.start]\n",
    "    for segment in path:\n",
    "        end_points.append(segment.end)\n",
    "    end_points = np.array(end_points)\n",
    "        #print(end_points[np.where(np.sqrt((end_points[1:]-end_points[:-1]).real**2 + (end_points[1:]-end_points[:-1]).imag**2)<=0.5)])\n",
    "    key_points = torch.tensor(list(map(complex,end_points[np.where(np.sqrt((end_points[1:]-end_points[:-1]).real**2 + (end_points[1:]-end_points[:-1]).imag**2)<=1)]))) #.float())\n",
    "    inputs.append(torch.unsqueeze(torch.cat((key_points,torch.zeros(10-len(key_points)))),0))\n",
    "input_data = torch.cat(inputs).to(cuda0)\n",
    "print(input_data.shape,training_data.shape)"
   ]
  },
  {
   "cell_type": "code",
   "execution_count": null,
   "metadata": {},
   "outputs": [],
   "source": [
    "input_data_split = torch.cat((torch.unsqueeze(input_data.real.float(),1),torch.unsqueeze(input_data.imag.float(),1)),dim=1)"
   ]
  },
  {
   "cell_type": "code",
   "execution_count": null,
   "metadata": {},
   "outputs": [],
   "source": [
    "input_data_split = input_data_split/torch.max(input_data_split)"
   ]
  },
  {
   "cell_type": "code",
   "execution_count": null,
   "metadata": {},
   "outputs": [],
   "source": [
    "input_data_split = input_data_split[:,:,1:]-input_data_split[:,:,:-1]"
   ]
  },
  {
   "cell_type": "code",
   "execution_count": null,
   "metadata": {},
   "outputs": [],
   "source": [
    "input_data_split = input_data_split.permute((0,2,1))"
   ]
  },
  {
   "cell_type": "code",
   "execution_count": null,
   "metadata": {},
   "outputs": [],
   "source": [
    "x_batches = torch.split(training_data,32)"
   ]
  },
  {
   "cell_type": "code",
   "execution_count": null,
   "metadata": {},
   "outputs": [],
   "source": [
    "guide_batches = torch.split(input_data_split,32)"
   ]
  },
  {
   "cell_type": "code",
   "execution_count": null,
   "metadata": {},
   "outputs": [],
   "source": [
    "class CNNArtist(nn.Module):\n",
    "\n",
    "    def __init__(self): #, dropout=0.1\n",
    "        super(CNNArtist, self).__init__()\n",
    "    \n",
    "        self.encoder = nn.Sequential( # We may add pooling as well, though works perfectly without it \n",
    "            nn.Conv1d(2, 2, kernel_size=5,stride=3), #ch: 6, stride=2 \n",
    "            nn.LeakyReLU(True), \n",
    "            nn.Conv1d(2, 2, kernel_size=5,stride=3), #ch: 16 play with those hyperparameters\n",
    "            nn.LeakyReLU(True))\n",
    "        self.decoder = nn.Sequential(\n",
    "            nn.ConvTranspose1d(2, 2, kernel_size=5,stride=3),\n",
    "            nn.LeakyReLU(True),\n",
    "            nn.ConvTranspose1d(2, 2, kernel_size=5,stride=3),\n",
    "            nn.LeakyReLU(True),\n",
    "            nn.Linear(584,584)) \n",
    "        self.fc_mu = nn.Linear(64, 64)\n",
    "        self.fc_var = nn.Linear(64, 64)\n",
    "        self.log_scale = nn.Parameter(torch.Tensor([0.0]))\n",
    "\n",
    "    def forward(self, x):\n",
    "        x_encoded = self.encoder(x)\n",
    "        mu, log_var = self.fc_mu(x_encoded), self.fc_var(x_encoded)\n",
    "        std = torch.exp(log_var / 2)\n",
    "        q = torch.distributions.Normal(mu, std)\n",
    "        z = q.rsample()\n",
    "        #print(z.shape)\n",
    "        x_hat = self.decoder(z)\n",
    "        return x_hat,z,mu,std"
   ]
  },
  {
   "cell_type": "code",
   "execution_count": null,
   "metadata": {},
   "outputs": [],
   "source": [
    "class MapToLatent(nn.Module):\n",
    "    def __init__(self): #, dropout=0.1\n",
    "        super(MapToLatent, self).__init__()\n",
    "    \n",
    "        self.encoder_mu = nn.Sequential(\n",
    "            nn.ConvTranspose1d(2, 2, kernel_size=5,stride=1),\n",
    "            nn.LeakyReLU(True),\n",
    "            nn.ConvTranspose1d(2, 2, kernel_size=5,stride=2),\n",
    "            nn.LeakyReLU(True),\n",
    "            nn.ConvTranspose1d(2, 1, kernel_size=4,stride=2),\n",
    "            nn.LeakyReLU(True),\n",
    "            nn.Linear(64,64)) \n",
    "        \n",
    "        self.encoder_std = nn.Sequential(\n",
    "            nn.ConvTranspose1d(2, 2, kernel_size=5,stride=1),\n",
    "            nn.LeakyReLU(True),\n",
    "            nn.ConvTranspose1d(2, 2, kernel_size=5,stride=2),\n",
    "            nn.LeakyReLU(True),\n",
    "            nn.ConvTranspose1d(2, 1, kernel_size=4,stride=2),\n",
    "            nn.LeakyReLU(True),\n",
    "            nn.Linear(64,64)) \n",
    "    def forward(self, x):\n",
    "        return self.encoder_mu(x),torch.exp(self.encoder_std(x))"
   ]
  },
  {
   "cell_type": "code",
   "execution_count": null,
   "metadata": {},
   "outputs": [],
   "source": [
    "class MapToLatent_2(nn.Module):\n",
    "    def __init__(self): #, dropout=0.1\n",
    "        super(MapToLatent_2, self).__init__()\n",
    "    \n",
    "        self.encoder = nn.Sequential(\n",
    "            nn.ConvTranspose1d(2, 2, kernel_size=6,stride=1),\n",
    "            nn.LeakyReLU(True),\n",
    "            nn.ConvTranspose1d(2, 2, kernel_size=5,stride=2),\n",
    "            nn.LeakyReLU(True),\n",
    "            nn.ConvTranspose1d(2, 1, kernel_size=4,stride=2),\n",
    "            nn.LeakyReLU(True),\n",
    "            nn.Linear(64,64)) \n",
    "        \n",
    "    def forward(self, x):\n",
    "        return self.encoder(x)"
   ]
  },
  {
   "cell_type": "code",
   "execution_count": null,
   "metadata": {},
   "outputs": [],
   "source": [
    "class MapToLatent_3(nn.Module):\n",
    "    def __init__(self): #, dropout=0.1\n",
    "        super(MapToLatent_3, self).__init__()\n",
    "    \n",
    "        self.encoder = nn.LSTM(2,128,num_layers=2, dropout=0.1, batch_first=True)    \n",
    "        self.output_mu = nn.Linear(128,64)\n",
    "        self.output_std = nn.Linear(128,64) \n",
    "        #self.encoder_layer = nn.TransformerEncoderLayer(d_model=2, dim_feedforward = 128, nhead=2)\n",
    "        #self.transformer_encoder = nn.TransformerEncoder(self.encoder_layer, num_layers=2)\n",
    "        \n",
    "    def forward(self, x): \n",
    "        _,(encoded,_) = self.encoder(x)\n",
    "        #encoded = self.transformer_encoder(x.permute(1,0,2)) #.permute(2,0,1)\n",
    "        #return self.output_mu(encoded),torch.exp(self.output_std(encoded))\n",
    "        return self.output_mu(encoded)"
   ]
  },
  {
   "cell_type": "code",
   "execution_count": null,
   "metadata": {},
   "outputs": [],
   "source": [
    "def gaussian_likelihood(x_hat, logscale, x):\n",
    "    scale = torch.exp(logscale)\n",
    "    mean = x_hat\n",
    "    dist = torch.distributions.Normal(mean, scale)\n",
    "\n",
    "    # measure prob of seeing image under p(x|z)\n",
    "    log_pxz = dist.log_prob(x)\n",
    "    return log_pxz.sum(dim=(1, 2))"
   ]
  },
  {
   "cell_type": "code",
   "execution_count": null,
   "metadata": {},
   "outputs": [],
   "source": [
    "def kl_divergence(z, mu, std):\n",
    "    # --------------------------\n",
    "    # Monte carlo KL divergence\n",
    "    # --------------------------\n",
    "    # 1. define the first two probabilities (in this case Normal for both)\n",
    "    p = torch.distributions.Normal(torch.zeros_like(mu), torch.ones_like(std))\n",
    "    q = torch.distributions.Normal(mu, std)\n",
    "\n",
    "    # 2. get the probabilities from the equation\n",
    "    log_qzx = q.log_prob(z)\n",
    "    log_pz = p.log_prob(z)\n",
    "\n",
    "    # kl\n",
    "    kl = (log_qzx - log_pz)\n",
    "    kl = kl.sum(dim=(1,2))\n",
    "    return kl"
   ]
  },
  {
   "cell_type": "code",
   "execution_count": null,
   "metadata": {},
   "outputs": [],
   "source": [
    "def kl_divergence_mapping(z, mu_real, std_real,mu,std):\n",
    "    # --------------------------\n",
    "    # Monte carlo KL divergence\n",
    "    # --------------------------\n",
    "    # 1. define the first two probabilities (in this case Normal for both)\n",
    "    p = torch.distributions.Normal(mu_real, std_real)\n",
    "    q = torch.distributions.Normal(mu, std)\n",
    "    \n",
    "\n",
    "    # 2. get the probabilities from the equation\n",
    "    log_qzx = q.log_prob(z)\n",
    "    log_pz = p.log_prob(z)\n",
    "    \n",
    "    # kl\n",
    "    kl = (log_qzx - log_pz)\n",
    "    kl = kl.sum(dim=(1,2))\n",
    "    return kl"
   ]
  },
  {
   "cell_type": "code",
   "execution_count": null,
   "metadata": {},
   "outputs": [],
   "source": [
    "#model = CNNArtist().to(cuda0)\n",
    "#model(x_batches[0])"
   ]
  },
  {
   "cell_type": "code",
   "execution_count": null,
   "metadata": {},
   "outputs": [],
   "source": [
    "model = CNNArtist().to(cuda0)\n",
    "mse_loss = nn.MSELoss()\n",
    "#lr = 0.5 # learning rate\n",
    "#optimizer = torch.optim.SGD(model.parameters(), lr=lr)\n",
    "optimizer = torch.optim.Adam(model.parameters(),weight_decay=1e-5)\n",
    "for epoch in range(4000):\n",
    "    total_loss = 0\n",
    "    for batch in x_batches:\n",
    "        optimizer.zero_grad()\n",
    "        x_hat,z,mu,std = model(batch)\n",
    "        #print(coordinates_sigmasq)\n",
    "        #loss = mse_loss(out,batch)\n",
    "        recon_loss = gaussian_likelihood(x_hat, model.log_scale, batch)\n",
    "        kl = kl_divergence(z, mu, std)\n",
    "        elbo = (kl - recon_loss)\n",
    "        elbo = elbo.mean()\n",
    "        elbo.backward()\n",
    "        torch.nn.utils.clip_grad_norm_(model.parameters(), 1) #what param to set here? (grads are exploding without cliping)\n",
    "        optimizer.step()\n",
    "        total_loss += elbo.item()\n",
    "    if epoch % 100 == 0:\n",
    "        print(total_loss) #with 10 epochs 7720 2.36    "
   ]
  },
  {
   "cell_type": "code",
   "execution_count": null,
   "metadata": {},
   "outputs": [],
   "source": [
    "mapping_model = MapToLatent_3().to(cuda0)\n",
    "mse_loss = nn.MSELoss()\n",
    "#lr = 0.5 # learning rate\n",
    "#optimizer = torch.optim.SGD(model.parameters(), lr=lr)\n",
    "optimizer_map = torch.optim.Adam(mapping_model.parameters(),weight_decay=1e-5)\n",
    "for epoch in range(4000):\n",
    "    total_loss = 0\n",
    "    for i,batch in enumerate(x_batches):\n",
    "        optimizer_map.zero_grad()\n",
    "        with torch.no_grad():\n",
    "            x_hat,z,mu,std = model(batch)\n",
    "        #out_mu,out_std = mapping_model(guide_batches[i])\n",
    "        #out_mu = out_mu.permute((1,0,2))\n",
    "        #out_std = out_std.permute((1,0,2))\n",
    "        out = mapping_model(guide_batches[i]).permute((1,0,2))\n",
    "        #print(out_mu.shape,out_std.shape)\n",
    "        #loss = -kl_divergence_mapping(z,mu,std,out_mu,out_std).mean()\n",
    "        #loss = mse_loss(out_mu,mu) + mse_loss(out_std,std)\n",
    "        \n",
    "        loss = mse_loss(out,z) \n",
    "        loss.backward()\n",
    "        #torch.nn.utils.clip_grad_norm_(mapping_model.parameters(), 1) #what param to set here? (grads are exploding without cliping)\n",
    "        optimizer_map.step()\n",
    "        total_loss += loss.item()\n",
    "    if epoch % 100 == 0:\n",
    "        #print(out_mu)\n",
    "        print(total_loss) #with 10 epochs 7720 2.36    "
   ]
  },
  {
   "cell_type": "code",
   "execution_count": null,
   "metadata": {},
   "outputs": [],
   "source": [
    "p = torch.distributions.Normal(torch.zeros((1,2,16)), torch.ones((1,2,16)))\n",
    "z = p.rsample()\n",
    "out = model.decoder(z.to(cuda0))"
   ]
  },
  {
   "cell_type": "code",
   "execution_count": null,
   "metadata": {},
   "outputs": [],
   "source": [
    "vect_start = model(training_data[11:12,:,:])[1]\n",
    "vect_end = model(training_data[10:11,:,:])[1]\n",
    "z = torch.lerp(vect_start,vect_end,0.5)"
   ]
  },
  {
   "cell_type": "code",
   "execution_count": null,
   "metadata": {},
   "outputs": [],
   "source": [
    "s = 11 #0.006\n",
    "stats = model(training_data[s:s+1,:,:])\n",
    "out = model.decoder(torch.distributions.Normal(stats[2], stats[3]).rsample())\n",
    "#out = model.decoder(z)\n",
    "#out = model.decoder(stats[1])\n",
    "#out = stats[0]\n",
    "#print(stats[1],stats[2],stats[3])\n",
    "#out = latent_4\n",
    "#out = x_batches[0][4:5,:,:]\n",
    "#out = model.decoder(latent)\n",
    "#out = training_data[s:s+1,:,:]\n",
    "real_values = torch.tensor([[0.0,0.0]],device=cuda0)\n",
    "for i in range(1,out.shape[2]):\n",
    "    real_values= torch.cat((real_values,torch.unsqueeze(real_values[-1]+out[0,:,i],0)),0)\n",
    "segments =[]\n",
    "for i in range(1,real_values.shape[0]):   \n",
    "        segments.append(Line(complex(real_values[i-1,0],real_values[i-1,1]),complex(real_values[i,0],real_values[i,1])))\n",
    "segments.append(Line(complex(real_values[i,0],real_values[i,1]),complex()))\n",
    "wsvg(segments,filename='test_conv_4.svg') #nodes=[complex(),complex(real_values[real_values.shape[0]-1,0],real_values[real_values.shape[0]-1,1])],\n",
    "SVG('test_conv_4.svg') "
   ]
  },
  {
   "cell_type": "code",
   "execution_count": null,
   "metadata": {},
   "outputs": [],
   "source": [
    "vect_start = model(training_data[11:12,:,:])[1]\n",
    "vect_end = model(training_data[10:11,:,:])[1]\n",
    "img_list = []\n",
    "for i in np.linspace(0,1,21):\n",
    "    z = torch.lerp(vect_start,vect_end,i)\n",
    "    out = model.decoder(z)\n",
    "    real_values = torch.tensor([[0.0,0.0]],device=cuda0)\n",
    "    for i in range(1,out.shape[2]):\n",
    "        real_values= torch.cat((real_values,torch.unsqueeze(real_values[-1]+out[0,:,i],0)),0)\n",
    "    segments =[]\n",
    "    for i in range(1,real_values.shape[0]):   \n",
    "        segments.append(Line(complex(real_values[i-1,0],real_values[i-1,1]),complex(real_values[i,0],real_values[i,1])))\n",
    "    segments.append(Line(complex(real_values[i,0],real_values[i,1]),complex()))\n",
    "    figure = Path(*segments)\n",
    "    fig_attributes = [{'style':f'fill:stroke:rgb({250*p}, 149, 237);fill-opacity:0.2;fill-rule:nonzero;stroke:rgb({250*p}, 149, 237);stroke-width:0.2'}]\n",
    "    wsvg(figure, attributes = fig_attributes, svg_attributes = svg_attributes, filename='gif_generation.svg')\n",
    "    cairosvg.svg2png(url=\"gif_generation.svg\",write_to=\"gif_generation.png\")\n",
    "    #img_list.append(imageio.imread(\"gif_generation.png\"))\n",
    "    png = Image.open(\"gif_generation.png\")\n",
    "    png.load() # required for png.split()\n",
    "    background = Image.new(\"RGB\", png.size, (255, 255, 255))\n",
    "    background.paste(png, mask=png.split()[3]) # 3 is the alpha channel\n",
    "    img_list.append(background)\n",
    "img_list[0].save('transition.gif',append_images=img_list[1:],save_all=True, optimize=False, duration=150, loop=0) #, append_images=img_list[1:]"
   ]
  },
  {
   "cell_type": "markdown",
   "metadata": {},
   "source": [
    "![SegmentLocal](transition.gif \"segment\")"
   ]
  },
  {
   "cell_type": "code",
   "execution_count": null,
   "metadata": {},
   "outputs": [],
   "source": [
    "vect_start = model(training_data[13:14,:,:])[1]\n",
    "vect_end = model(training_data[1:2,:,:])[1]\n",
    "img_list = []\n",
    "for i in np.linspace(0,1,21):\n",
    "    z = torch.lerp(vect_start,vect_end,i)\n",
    "    out = model.decoder(z)\n",
    "    real_values = torch.tensor([[0.0,0.0]],device=cuda0)\n",
    "    for i in range(1,out.shape[2]):\n",
    "        real_values= torch.cat((real_values,torch.unsqueeze(real_values[-1]+out[0,:,i],0)),0)\n",
    "    segments =[]\n",
    "    for i in range(1,real_values.shape[0]):   \n",
    "        segments.append(Line(complex(real_values[i-1,0],real_values[i-1,1]),complex(real_values[i,0],real_values[i,1])))\n",
    "    segments.append(Line(complex(real_values[i,0],real_values[i,1]),complex()))\n",
    "    wsvg(segments,filename='gif_generation.svg')\n",
    "    cairosvg.svg2png(url=\"gif_generation.svg\",write_to=\"gif_generation.png\")\n",
    "    #img_list.append(imageio.imread(\"gif_generation.png\"))\n",
    "    png = Image.open(\"gif_generation.png\")\n",
    "    png.load() # required for png.split()\n",
    "    background = Image.new(\"RGB\", png.size, (255, 255, 255))\n",
    "    background.paste(png, mask=png.split()[3]) # 3 is the alpha channel\n",
    "    img_list.append(background)\n",
    "img_list[0].save('transition_2.gif',append_images=img_list[1:],save_all=True, optimize=False, duration=150, loop=0) #, append_images=img_list[1:]"
   ]
  },
  {
   "cell_type": "markdown",
   "metadata": {},
   "source": [
    "![SegmentLocal](transition_2.gif \"segment\")"
   ]
  },
  {
   "cell_type": "code",
   "execution_count": null,
   "metadata": {},
   "outputs": [],
   "source": [
    "vect_start = model(training_data[13:14,:,:])[1]\n",
    "vect_end = model(training_data[16:17,:,:])[1]\n",
    "img_list = []\n",
    "for i in np.linspace(0,1,21):\n",
    "    z = torch.lerp(vect_start,vect_end,i)\n",
    "    out = model.decoder(z)\n",
    "    real_values = torch.tensor([[0.0,0.0]],device=cuda0)\n",
    "    for i in range(1,out.shape[2]):\n",
    "        real_values= torch.cat((real_values,torch.unsqueeze(real_values[-1]+out[0,:,i],0)),0)\n",
    "    segments =[]\n",
    "    for i in range(1,real_values.shape[0]):   \n",
    "        segments.append(Line(complex(real_values[i-1,0],real_values[i-1,1]),complex(real_values[i,0],real_values[i,1])))\n",
    "    segments.append(Line(complex(real_values[i,0],real_values[i,1]),complex()))\n",
    "    wsvg(segments,filename='gif_generation.svg')\n",
    "    cairosvg.svg2png(url=\"gif_generation.svg\",write_to=\"gif_generation.png\")\n",
    "    #img_list.append(imageio.imread(\"gif_generation.png\"))\n",
    "    png = Image.open(\"gif_generation.png\")\n",
    "    png.load() # required for png.split()\n",
    "    background = Image.new(\"RGB\", png.size, (255, 255, 255))\n",
    "    background.paste(png, mask=png.split()[3]) # 3 is the alpha channel\n",
    "    img_list.append(background)\n",
    "img_list[0].save('transition_3.gif',append_images=img_list[1:],save_all=True, optimize=False, duration=150, loop=0) #, append_images=img_list[1:]"
   ]
  },
  {
   "cell_type": "markdown",
   "metadata": {},
   "source": [
    "![SegmentLocal](transition_3.gif \"segment\")"
   ]
  },
  {
   "cell_type": "code",
   "execution_count": null,
   "metadata": {},
   "outputs": [],
   "source": [
    "vect_start = model(training_data[22:23,:,:])[1]\n",
    "vect_end = model(training_data[21:22,:,:])[1]\n",
    "img_list = []\n",
    "for i in np.linspace(0,1,21):\n",
    "    z = torch.lerp(vect_start,vect_end,i)\n",
    "    out = model.decoder(z)\n",
    "    real_values = torch.tensor([[0.0,0.0]],device=cuda0)\n",
    "    for i in range(1,out.shape[2]):\n",
    "        real_values= torch.cat((real_values,torch.unsqueeze(real_values[-1]+out[0,:,i],0)),0)\n",
    "    segments =[]\n",
    "    for i in range(1,real_values.shape[0]):   \n",
    "        segments.append(Line(complex(real_values[i-1,0],real_values[i-1,1]),complex(real_values[i,0],real_values[i,1])))\n",
    "    segments.append(Line(complex(real_values[i,0],real_values[i,1]),complex()))\n",
    "    wsvg(segments,filename='gif_generation.svg')\n",
    "    cairosvg.svg2png(url=\"gif_generation.svg\",write_to=\"gif_generation.png\")\n",
    "    #img_list.append(imageio.imread(\"gif_generation.png\"))\n",
    "    png = Image.open(\"gif_generation.png\")\n",
    "    png.load() # required for png.split()\n",
    "    background = Image.new(\"RGB\", png.size, (255, 255, 255))\n",
    "    background.paste(png, mask=png.split()[3]) # 3 is the alpha channel\n",
    "    img_list.append(background)\n",
    "img_list[0].save('transition_4.gif',append_images=img_list[1:],save_all=True, optimize=False, duration=150, loop=0) #, append_images=img_list[1:]"
   ]
  },
  {
   "cell_type": "markdown",
   "metadata": {},
   "source": [
    "![SegmentLocal](transition_4.gif \"segment\")"
   ]
  },
  {
   "cell_type": "code",
   "execution_count": null,
   "metadata": {},
   "outputs": [],
   "source": [
    "input = input_data_split[s:s+1,:,:]\n",
    "#z[:,-5][0] = 0\n",
    "#z[0,-5][1] = 0\n",
    "input[0,4:5,:] = 0"
   ]
  },
  {
   "cell_type": "code",
   "execution_count": null,
   "metadata": {},
   "outputs": [],
   "source": [
    "s = 60 #0.006\n",
    "#z = input_data_split[s:s+1,:,:]\n",
    "#map_mu, map_std = mapping_model(z)\n",
    "z = mapping_model(input)\n",
    "#stats = model(training_data[s:s+1,:,:])\n",
    "#print(z,stats[1])\n",
    "#out = model.decoder(torch.distributions.Normal(map_mu, map_std).rsample())\n",
    "out = model.decoder(z)\n",
    "#out = model.decoder(stats[1])\n",
    "#out = stats[0]\n",
    "#print(stats[1],stats[2],stats[3])\n",
    "#out = latent_4\n",
    "#out = x_batches[0][4:5,:,:]\n",
    "#out = model.decoder(latent)\n",
    "#out = training_data[s:s+1,:,:]\n",
    "real_values = torch.tensor([[0.0,0.0]],device=cuda0)\n",
    "for i in range(1,out.shape[2]):\n",
    "    real_values= torch.cat((real_values,torch.unsqueeze(real_values[-1]+out[0,:,i],0)),0)\n",
    "segments =[]\n",
    "for i in range(1,real_values.shape[0]):   \n",
    "        segments.append(Line(complex(real_values[i-1,0],real_values[i-1,1]),complex(real_values[i,0],real_values[i,1])))\n",
    "segments.append(Line(complex(real_values[i,0],real_values[i,1]),complex()))\n",
    "wsvg(segments,filename='test_conv_5.svg') #nodes=[complex(),complex(real_values[real_values.shape[0]-1,0],real_values[real_values.shape[0]-1,1])],\n",
    "SVG('test_conv_5.svg') "
   ]
  },
  {
   "cell_type": "code",
   "execution_count": null,
   "metadata": {},
   "outputs": [],
   "source": [
    "vect_start = model(training_data[0:1,:,:])[1]\n",
    "vect_end = model(training_data[15:16,:,:])[1]\n",
    "img_list = []\n",
    "for i in np.linspace(0,1,21):\n",
    "    z = torch.lerp(vect_start,vect_end,i)\n",
    "    out = model.decoder(z)\n",
    "    real_values = torch.tensor([[0.0,0.0]],device=cuda0)\n",
    "    for i in range(1,out.shape[2]):\n",
    "        real_values= torch.cat((real_values,torch.unsqueeze(real_values[-1]+out[0,:,i],0)),0)\n",
    "    segments =[]\n",
    "    for i in range(1,real_values.shape[0]):   \n",
    "        segments.append(Line(complex(real_values[i-1,0],real_values[i-1,1]),complex(real_values[i,0],real_values[i,1])))\n",
    "    segments.append(Line(complex(real_values[i,0],real_values[i,1]),complex()))\n",
    "    wsvg(segments,filename='gif_generation.svg')\n",
    "    cairosvg.svg2png(url=\"gif_generation.svg\",write_to=\"gif_generation.png\")\n",
    "    #img_list.append(imageio.imread(\"gif_generation.png\"))\n",
    "    png = Image.open(\"gif_generation.png\")\n",
    "    png.load() # required for png.split()\n",
    "    background = Image.new(\"RGB\", png.size, (255, 255, 255))\n",
    "    background.paste(png, mask=png.split()[3]) # 3 is the alpha channel\n",
    "    img_list.append(background)\n",
    "img_list[0].save('transition.gif',append_images=img_list[1:],save_all=True, optimize=False, duration=150, loop=0) #, append_images=img_list[1:]"
   ]
  },
  {
   "cell_type": "markdown",
   "metadata": {},
   "source": [
    "![SegmentLocal](transition_5.gif \"segment\")"
   ]
  },
  {
   "cell_type": "code",
   "execution_count": null,
   "metadata": {},
   "outputs": [],
   "source": [
    "vect_start = model(training_data[100:101,:,:])[1]\n",
    "vect_end = model(training_data[15:16,:,:])[1]\n",
    "img_list = []\n",
    "for i in np.linspace(0,1,21):\n",
    "    z = torch.lerp(vect_start,vect_end,i)\n",
    "    out = model.decoder(z)\n",
    "    real_values = torch.tensor([[0.0,0.0]],device=cuda0)\n",
    "    for i in range(1,out.shape[2]):\n",
    "        real_values= torch.cat((real_values,torch.unsqueeze(real_values[-1]+out[0,:,i],0)),0)\n",
    "    segments =[]\n",
    "    for i in range(1,real_values.shape[0]):   \n",
    "        segments.append(Line(complex(real_values[i-1,0],real_values[i-1,1]),complex(real_values[i,0],real_values[i,1])))\n",
    "    segments.append(Line(complex(real_values[i,0],real_values[i,1]),complex()))\n",
    "    wsvg(segments,filename='gif_generation.svg')\n",
    "    cairosvg.svg2png(url=\"gif_generation.svg\",write_to=\"gif_generation.png\")\n",
    "    #img_list.append(imageio.imread(\"gif_generation.png\"))\n",
    "    png = Image.open(\"gif_generation.png\")\n",
    "    png.load() # required for png.split()\n",
    "    background = Image.new(\"RGB\", png.size, (255, 255, 255))\n",
    "    background.paste(png, mask=png.split()[3]) # 3 is the alpha channel\n",
    "    img_list.append(background)\n",
    "img_list[0].save('transition_6.gif',append_images=img_list[1:],save_all=True, optimize=False, duration=150, loop=0) #, append_images=img_list[1:]"
   ]
  },
  {
   "cell_type": "markdown",
   "metadata": {},
   "source": [
    "![SegmentLocal](transition_6.gif \"segment\")"
   ]
  },
  {
   "cell_type": "code",
   "execution_count": null,
   "metadata": {},
   "outputs": [],
   "source": [
    "vect_start = model(training_data[111:112,:,:])[1]\n",
    "vect_end = model(training_data[60:61,:,:])[1]\n",
    "img_list = []\n",
    "for i in np.linspace(0,1,21):\n",
    "    z = torch.lerp(vect_start,vect_end,i)\n",
    "    out = model.decoder(z)\n",
    "    real_values = torch.tensor([[0.0,0.0]],device=cuda0)\n",
    "    for i in range(1,out.shape[2]):\n",
    "        real_values= torch.cat((real_values,torch.unsqueeze(real_values[-1]+out[0,:,i],0)),0)\n",
    "    segments =[]\n",
    "    for i in range(1,real_values.shape[0]):   \n",
    "        segments.append(Line(complex(real_values[i-1,0],real_values[i-1,1]),complex(real_values[i,0],real_values[i,1])))\n",
    "    segments.append(Line(complex(real_values[i,0],real_values[i,1]),complex()))\n",
    "    wsvg(segments,filename='gif_generation.svg')\n",
    "    cairosvg.svg2png(url=\"gif_generation.svg\",write_to=\"gif_generation.png\")\n",
    "    #img_list.append(imageio.imread(\"gif_generation.png\"))\n",
    "    png = Image.open(\"gif_generation.png\")\n",
    "    png.load() # required for png.split()\n",
    "    background = Image.new(\"RGB\", png.size, (255, 255, 255))\n",
    "    background.paste(png, mask=png.split()[3]) # 3 is the alpha channel\n",
    "    img_list.append(background)\n",
    "img_list[0].save('transition_7.gif',append_images=img_list[1:],save_all=True, optimize=False, duration=150, loop=0) #, append_images=img_list[1:]"
   ]
  },
  {
   "cell_type": "markdown",
   "metadata": {},
   "source": [
    "![SegmentLocal](transition_7.gif \"segment\")"
   ]
  },
  {
   "cell_type": "code",
   "execution_count": null,
   "metadata": {},
   "outputs": [],
   "source": [
    "s =  6 #0.006\n",
    "stats = model(training_data[s:s+1,:,:])\n",
    "out = model.decoder(torch.distributions.Normal(stats[2], stats[3]).rsample())\n",
    "#out = model.decoder(z)\n",
    "out = model.decoder(stats[1])\n",
    "#out = stats[0]\n",
    "#print(stats[1],stats[2],stats[3])\n",
    "#out = latent_4\n",
    "#out = x_batches[0][4:5,:,:]\n",
    "#out = model.decoder(latent)\n",
    "#out = training_data[s:s+1,:,:]\n",
    "real_values = torch.tensor([[0.0,0.0]],device=cuda0)\n",
    "for i in range(1,out.shape[2]):\n",
    "    real_values= torch.cat((real_values,torch.unsqueeze(real_values[-1]+out[0,:,i],0)),0)\n",
    "segments =[]\n",
    "for i in range(1,real_values.shape[0]):   \n",
    "        segments.append(Line(complex(real_values[i-1,0],real_values[i-1,1]),complex(real_values[i,0],real_values[i,1])))\n",
    "segments.append(Line(complex(real_values[i,0],real_values[i,1]),complex()))\n",
    "wsvg(segments,filename='test_conv_6.svg') #nodes=[complex(),complex(real_values[real_values.shape[0]-1,0],real_values[real_values.shape[0]-1,1])],\n",
    "SVG('test_conv_6.svg') "
   ]
  },
  {
   "cell_type": "code",
   "execution_count": null,
   "metadata": {},
   "outputs": [],
   "source": [
    "vect_start = model(training_data[111:112,:,:])[1]\n",
    "vect_end = model(training_data[60:61,:,:])[1]\n",
    "img_list = []\n",
    "for p in np.linspace(0,1,21):\n",
    "    z = torch.lerp(vect_start,vect_end,p)\n",
    "    out = model.decoder(z)\n",
    "    real_values = torch.tensor([[0.0,0.0]],device=cuda0)\n",
    "    for i in range(1,out.shape[2]):\n",
    "        real_values= torch.cat((real_values,torch.unsqueeze(real_values[-1]+out[0,:,i],0)),0)\n",
    "    segments =[]\n",
    "    for i in range(1,real_values.shape[0]):   \n",
    "        segments.append(Line(complex(real_values[i-1,0],real_values[i-1,1]),complex(real_values[i,0],real_values[i,1])))\n",
    "    segments.append(Line(complex(real_values[i,0],real_values[i,1]),complex()))\n",
    "    figure = Path(*segments)\n",
    "    svg_attributes = {'viewBox': '-5 -2.5 20 23','height': '600','width': '600'}\n",
    "    fig_attributes = [{'style':f'fill:none;fill-opacity:1;fill-rule:nonzero;stroke:rgb({250*p}, 149, 237);stroke-width:0.2'}]\n",
    "    wsvg(figure, attributes = fig_attributes, svg_attributes = svg_attributes, filename='gif_generation.svg')\n",
    "    cairosvg.svg2png(url=\"gif_generation.svg\",write_to=\"gif_generation.png\")\n",
    "    #img_list.append(imageio.imread(\"gif_generation.png\"))\n",
    "    png = Image.open(\"gif_generation.png\")\n",
    "    png.load() # required for png.split()\n",
    "    background = Image.new(\"RGB\", png.size, (255, 255, 255))\n",
    "    background.paste(png, mask=png.split()[3]) # 3 is the alpha channel\n",
    "    img_list.append(background)\n",
    "img_list[0].save('transition_11.gif',append_images=img_list[1:],save_all=True, optimize=False, duration=150, loop=0) #, append_images=img_list[1:]"
   ]
  },
  {
   "cell_type": "markdown",
   "metadata": {},
   "source": [
    "![SegmentLocal](transition_8.gif \"segment\")"
   ]
  },
  {
   "cell_type": "code",
   "execution_count": null,
   "metadata": {},
   "outputs": [],
   "source": [
    "[{'test':0}]*5"
   ]
  },
  {
   "cell_type": "code",
   "execution_count": null,
   "metadata": {},
   "outputs": [],
   "source": [
    "vect_start = training_data[111:112,:,:]\n",
    "vect_end = training_data[60:61,:,:]\n",
    "out = torch.lerp(vect_start,vect_end,0.5)\n",
    "real_values = torch.tensor([[0.0,0.0]],device=cuda0)\n",
    "for i in range(1,out.shape[2]):\n",
    "    real_values= torch.cat((real_values,torch.unsqueeze(real_values[-1]+out[0,:,i],0)),0)\n",
    "segments =[]\n",
    "for i in range(1,real_values.shape[0]):   \n",
    "        segments.append(Line(complex(real_values[i-1,0],real_values[i-1,1]),complex(real_values[i,0],real_values[i,1])))\n",
    "segments.append(Line(complex(real_values[i,0],real_values[i,1]),complex()))\n",
    "svg_attributes = {'viewBox': '-2 0 20 18','height': '600','width': '600'}\n",
    "fig_attributes = [{'style':'fill:none;fill-opacity:1;fill-rule:nonzero;stroke:rgb(20, 149, 237);stroke-width:0.1'}]\n",
    "#fig_attributes[0]['style'] = 'fill:#343542;fill-opacity:1;fill-rule:nonzero;stroke:none;stroke-width:0.0352777'\n",
    "print(len(segments))\n",
    "figure = Path(*segments)\n",
    "wsvg(figure, attributes = fig_attributes, svg_attributes = svg_attributes, filename='test_conv_7.svg') #nodes=[complex(),complex(real_values[real_values.shape[0]-1,0],real_values[real_values.shape[0]-1,1])],\n",
    "SVG('test_conv_7.svg') "
   ]
  },
  {
   "cell_type": "code",
   "execution_count": null,
   "metadata": {},
   "outputs": [],
   "source": [
    "s = 111 #0.006\n",
    "stats = model(training_data[s:s+1,:,:])\n",
    "#out = model.decoder(torch.distributions.Normal(stats[2], stats[3]).rsample())\n",
    "#out = model.decoder(z)\n",
    "#out = model.decoder(stats[1])\n",
    "out = stats[1]\n",
    "#print(stats[1],stats[2],stats[3])\n",
    "#out = latent_4\n",
    "#out = x_batches[0][4:5,:,:]\n",
    "#out = model.decoder(latent)\n",
    "#out = training_data[s:s+1,:,:]\n",
    "real_values = torch.tensor([[0.0,0.0]],device=cuda0)\n",
    "for i in range(1,out.shape[2]):\n",
    "    real_values= torch.cat((real_values,torch.unsqueeze(real_values[-1]+out[0,:,i],0)),0)\n",
    "segments =[]\n",
    "real_values = out[0,:,:].permute((1,0))\n",
    "fig_attributes = []\n",
    "segments.append\n",
    "for i in range(1,real_values.shape[0]):   \n",
    "        segments.append(Line(complex(real_values[i-1,0],real_values[i-1,1]),complex(real_values[i,0],real_values[i,1])))\n",
    "        fig_attributes.append({'style':f'fill:none;stroke:rgba({5*i}, 149, 237,0.5);stroke-width:0.02;stroke-linejoin:bevel'})\n",
    "segments.append(Line(complex(real_values[i,0],real_values[i,1]),complex()))\n",
    "fig_attributes.append({'style':f'fill:none;stroke:rgba({25*10}, 149, 237,0.5);stroke-width:0.02;stroke-linejoin:bevel'})\n",
    "wsvg(segments,attributes = fig_attributes,filename='test_conv_13.svg') #nodes=[complex(),complex(real_values[real_values.shape[0]-1,0],real_values[real_values.shape[0]-1,1])],\n",
    "SVG('test_conv_13.svg') "
   ]
  },
  {
   "cell_type": "code",
   "execution_count": null,
   "metadata": {},
   "outputs": [],
   "source": [
    "import cairocffi as cairo"
   ]
  },
  {
   "cell_type": "code",
   "execution_count": null,
   "metadata": {},
   "outputs": [],
   "source": [
    "from cairocffi import ImageSurface\n",
    "from cairosvg.parser import Tree\n",
    "from cairosvg.surface import SVGSurface\n",
    "\n",
    "\n",
    "def load_svg(svg: bytes) -> ImageSurface:\n",
    "    return SVGSurface(Tree(bytestring=svg), None, 1,scale=5).cairo"
   ]
  },
  {
   "cell_type": "code",
   "execution_count": null,
   "metadata": {},
   "outputs": [],
   "source": [
    "surface = load_svg(cairosvg.surface.SVGSurface.convert(url='test_conv_13.svg'))\n",
    "context = cairo.Context(surface)\n",
    "context.set_operator(cairo.OPERATOR_DEST_OVER)\n",
    "context.scale(1973, 2250)\n",
    "context.set_source_rgba(0,0,0,1)\n",
    "context.rectangle(0,0,1,1)\n",
    "context.fill()\n",
    "surface.write_to_png('pycairo_test_14.png')"
   ]
  },
  {
   "cell_type": "code",
   "execution_count": null,
   "metadata": {},
   "outputs": [],
   "source": [
    "p = torch.distributions.Normal(torch.zeros((1,1,64)), 1)#torch.ones((1,1,64))*0.1)\n",
    "z = p.rsample()\n",
    "#out = model.decoder(z.to(cuda0))\n",
    "#out = model.decoder(stats[1]*1.5)\n",
    "#vect_start = model(training_data[111:112,:,:])[1]\n",
    "s = 2\n",
    "z = model(training_data[s:s+1,:,:])[1]\n",
    "#vect_end = model(training_data[60:61,:,:])[1]\n",
    "#z = torch.lerp(vect_start,vect_end,0.5)\n",
    "out = model.decoder(z.to(cuda0))\n",
    "#out = model.decoder((vect_end-vect_start)*1.5)\n",
    "#out = stats[0]\n",
    "#print(stats[1],stats[2],stats[3])\n",
    "#out = latent_4\n",
    "#out = x_batches[0][4:5,:,:]\n",
    "#out = model.decoder(latent)\n",
    "#out = training_data[s:s+1,:,:]\n",
    "real_values = torch.tensor([[0.0,0.0]],device=cuda0)\n",
    "for i in range(1,out.shape[2]):\n",
    "    real_values= torch.cat((real_values,torch.unsqueeze(real_values[-1]+out[0,:,i],0)),0)\n",
    "segments =[]\n",
    "for i in range(1,real_values.shape[0]):   \n",
    "        segments.append(Line(complex(real_values[i-1,0],real_values[i-1,1]),complex(real_values[i,0],real_values[i,1])))\n",
    "segments.append(Line(complex(real_values[i,0],real_values[i,1]),complex()))\n",
    "wsvg(segments,filename='test_conv_20.svg') #nodes=[complex(),complex(real_values[real_values.shape[0]-1,0],real_values[real_values.shape[0]-1,1])],\n",
    "SVG('test_conv_20.svg') "
   ]
  },
  {
   "cell_type": "code",
   "execution_count": null,
   "metadata": {},
   "outputs": [],
   "source": []
  },
  {
   "cell_type": "code",
   "execution_count": null,
   "metadata": {},
   "outputs": [],
   "source": [
    "z"
   ]
  },
  {
   "cell_type": "code",
   "execution_count": null,
   "metadata": {},
   "outputs": [],
   "source": [
    "mu = torch.tensor(np.random.choice([10,50],size=100,p=[0.2,0.8])).float()\n",
    "torch.abs(torch.distributions.Normal(mu, 10).sample(sample_shape=[1000]).int())"
   ]
  },
  {
   "cell_type": "code",
   "execution_count": null,
   "metadata": {},
   "outputs": [],
   "source": [
    "mu"
   ]
  },
  {
   "cell_type": "code",
   "execution_count": null,
   "metadata": {},
   "outputs": [],
   "source": [
    "torch.abs(torch.distributions.Normal(mu, 10).sample(sample_shape=[1000]).int())"
   ]
  },
  {
   "cell_type": "code",
   "execution_count": null,
   "metadata": {},
   "outputs": [],
   "source": []
  }
 ],
 "metadata": {
  "kernelspec": {
   "display_name": "Python 3",
   "language": "python",
   "name": "python3"
  },
  "language_info": {
   "codemirror_mode": {
    "name": "ipython",
    "version": 3
   },
   "file_extension": ".py",
   "mimetype": "text/x-python",
   "name": "python",
   "nbconvert_exporter": "python",
   "pygments_lexer": "ipython3",
   "version": "3.7.6"
  }
 },
 "nbformat": 4,
 "nbformat_minor": 4
}
