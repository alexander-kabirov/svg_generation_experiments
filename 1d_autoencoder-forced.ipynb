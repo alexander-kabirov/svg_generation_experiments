{
 "cells": [
  {
   "cell_type": "code",
   "execution_count": null,
   "metadata": {},
   "outputs": [],
   "source": [
    "from IPython.display import SVG\n",
    "import svgwrite\n",
    "import numpy as np\n",
    "import os\n",
    "import random\n",
    "import pandas as pd\n",
    "from random import randint\n",
    "import math\n",
    "import torch\n",
    "import torch.nn as nn\n",
    "import torch.nn.functional as F\n",
    "from torch.autograd import Variable\n",
    "import numpy as np\n",
    "from torch.distributions.categorical import Categorical\n",
    "from torch.distributions.normal import Normal\n",
    "from torch.distributions.multivariate_normal import MultivariateNormal\n",
    "import warnings\n",
    "import cmath\n",
    "from svgpathtools import *\n",
    "import math"
   ]
  },
  {
   "cell_type": "code",
   "execution_count": null,
   "metadata": {},
   "outputs": [],
   "source": [
    "cuda0 = torch.device('cuda:0')"
   ]
  },
  {
   "cell_type": "code",
   "execution_count": null,
   "metadata": {},
   "outputs": [],
   "source": [
    "paths, attributes, svg_attributes = svg2paths2('Minisample/leaves.svg')"
   ]
  },
  {
   "cell_type": "code",
   "execution_count": null,
   "metadata": {},
   "outputs": [],
   "source": [
    "len(paths)"
   ]
  },
  {
   "cell_type": "code",
   "execution_count": null,
   "metadata": {},
   "outputs": [],
   "source": [
    "n_seg = 152 #produces equally sized vectors\n",
    "ts = np.array(range(n_seg+1))*1/n_seg\n",
    "figures = []\n",
    "for path in paths:\n",
    "    figures.append([[path.point(t).real,path.point(t).imag] for t in ts])\n",
    "training_data = torch.tensor(figures,dtype=torch.float,device=cuda0)\n",
    "training_data = training_data[:,1:,:] - training_data[:,:-1,:] #OPTIONAL\n",
    "training_data = training_data.permute((0,2,1))"
   ]
  },
  {
   "cell_type": "code",
   "execution_count": null,
   "metadata": {},
   "outputs": [],
   "source": [
    "n_seg_rep = 16 #produces equally sized vectors\n",
    "ts_rep = np.array(range(n_seg_rep+1))*1/n_seg_rep\n",
    "figures_rep = []\n",
    "for path in paths:\n",
    "    figures_rep.append([[path.point(t).real,path.point(t).imag] for t in ts_rep])\n",
    "training_data_rep = torch.tensor(figures_rep,dtype=torch.float,device=cuda0)\n",
    "training_data_rep = training_data_rep[:,1:,:] - training_data_rep[:,:-1,:] #OPTIONAL\n",
    "training_data_rep = training_data_rep.permute((0,2,1))"
   ]
  },
  {
   "cell_type": "code",
   "execution_count": null,
   "metadata": {},
   "outputs": [],
   "source": [
    "x_batches = torch.split(training_data,50)\n",
    "x_batches_rep = torch.split(training_data_rep,50)"
   ]
  },
  {
   "cell_type": "code",
   "execution_count": null,
   "metadata": {},
   "outputs": [],
   "source": [
    "class CNNArtist(nn.Module):\n",
    "\n",
    "    def __init__(self): #, dropout=0.1\n",
    "        super(CNNArtist, self).__init__()\n",
    "    \n",
    "        self.encoder = nn.Sequential( # We may add pooling as well, though works perfectly without it \n",
    "            nn.Conv1d(2, 2, kernel_size=5,stride=3), #ch: 6, stride=2 \n",
    "            nn.LeakyReLU(True), \n",
    "            nn.Conv1d(2, 2, kernel_size=5,stride=3), #ch: 16 play with those hyperparameters\n",
    "            nn.LeakyReLU(True))\n",
    "        self.decoder = nn.Sequential(\n",
    "            nn.ConvTranspose1d(2, 2, kernel_size=5,stride=3),\n",
    "            nn.LeakyReLU(True),\n",
    "            nn.ConvTranspose1d(2, 2, kernel_size=5,stride=3),\n",
    "            nn.LeakyReLU(True),\n",
    "            nn.Linear(152,152)) \n",
    "\n",
    "    def forward(self, x):\n",
    "        latent = self.encoder(x)\n",
    "        return latent,self.decoder(latent)"
   ]
  },
  {
   "cell_type": "code",
   "execution_count": null,
   "metadata": {},
   "outputs": [],
   "source": [
    "model = CNNArtist().to(cuda0)\n",
    "mse_loss = nn.MSELoss()\n",
    "#lr = 0.5 # learning rate\n",
    "#optimizer = torch.optim.SGD(model.parameters(), lr=lr)\n",
    "optimizer = torch.optim.Adam(model.parameters(),weight_decay=1e-5)\n",
    "for epoch in range(6000):\n",
    "    total_loss = 0\n",
    "    for i,batch in enumerate(x_batches):\n",
    "        optimizer.zero_grad()\n",
    "        latent,out = model(batch)\n",
    "        #print(coordinates_sigmasq)\n",
    "        latent_loss = mse_loss(latent,x_batches_rep[i])\n",
    "        loss = mse_loss(out,batch)\n",
    "        latent_loss.backward(retain_graph=True)\n",
    "        loss.backward()\n",
    "        torch.nn.utils.clip_grad_norm_(model.parameters(), 1) #what param to set here? (grads are exploding without cliping)\n",
    "        optimizer.step()\n",
    "        total_loss += loss.item()\n",
    "    if epoch % 1000 == 0:\n",
    "        print(total_loss) #with 10 epochs 7720 2.36    "
   ]
  },
  {
   "cell_type": "code",
   "execution_count": null,
   "metadata": {},
   "outputs": [],
   "source": [
    "s = 0 #0.006\n",
    "latent,out = model(training_data[s:s+1,:,:])"
   ]
  },
  {
   "cell_type": "code",
   "execution_count": null,
   "metadata": {},
   "outputs": [],
   "source": [
    "flip_x_transform = torch.tensor([[-1.0,0.0],[0.0,1.0]],device=cuda0)\n",
    "flip_y_transform = torch.tensor([[1.0,0.0],[0.0,-1.0]],device=cuda0)"
   ]
  },
  {
   "cell_type": "code",
   "execution_count": null,
   "metadata": {},
   "outputs": [],
   "source": [
    "x_latent = torch.unsqueeze(torch.mm(latent[0,:,:].T,flip_x_transform).T,0)\n",
    "y_latent = torch.unsqueeze(torch.mm(latent[0,:,:].T,flip_y_transform).T,0)"
   ]
  },
  {
   "cell_type": "code",
   "execution_count": null,
   "metadata": {},
   "outputs": [],
   "source": [
    "latent = latent + torch.torch.rand((1, 2, 16),device=cuda0)*2"
   ]
  },
  {
   "cell_type": "code",
   "execution_count": null,
   "metadata": {},
   "outputs": [],
   "source": [
    "out = model.decoder(latent)\n",
    "#out = latent\n",
    "#out = training_data[s:s+1,:,:]\n",
    "real_values = torch.tensor([[0.0,0.0]],device=cuda0)\n",
    "for i in range(1,out.shape[2]):\n",
    "    real_values= torch.cat((real_values,torch.unsqueeze(real_values[-1]+out[0,:,i],0)),0)\n",
    "segments =[]\n",
    "for i in range(1,real_values.shape[0]):   \n",
    "        segments.append(Line(complex(real_values[i-1,0],real_values[i-1,1]),complex(real_values[i,0],real_values[i,1])))\n",
    "segments.append(Line(complex(real_values[i,0],real_values[i,1]),complex()))\n",
    "wsvg(segments,filename='test_conv.svg') #nodes=[complex(),complex(real_values[real_values.shape[0]-1,0],real_values[real_values.shape[0]-1,1])],\n",
    "SVG('test_conv.svg') "
   ]
  },
  {
   "cell_type": "code",
   "execution_count": null,
   "metadata": {},
   "outputs": [],
   "source": [
    "out = model(training_data[5:6,:,:])\n",
    "#out = x_batches[0][4:5,:,:]\n",
    "real_values = torch.tensor([[0.0,0.0]],device=cuda0)\n",
    "for i in range(1,out.shape[2]):\n",
    "    real_values= torch.cat((real_values,torch.unsqueeze(real_values[-1]+out[0,:,i],0)),0)\n",
    "segments =[]\n",
    "for i in range(1,real_values.shape[0]):   \n",
    "        segments.append(Line(complex(real_values[i-1,0],real_values[i-1,1]),complex(real_values[i,0],real_values[i,1])))\n",
    "segments.append(Line(complex(real_values[i,0],real_values[i,1]),complex()))\n",
    "wsvg(segments,filename='test_conv.svg') #nodes=[complex(),complex(real_values[real_values.shape[0]-1,0],real_values[real_values.shape[0]-1,1])],\n",
    "SVG('test_conv.svg') "
   ]
  },
  {
   "cell_type": "code",
   "execution_count": null,
   "metadata": {},
   "outputs": [],
   "source": [
    "out = model(training_data[6:7,:,:])\n",
    "#out = x_batches[0][4:5,:,:]\n",
    "real_values = torch.tensor([[0.0,0.0]],device=cuda0)\n",
    "for i in range(1,out.shape[2]):\n",
    "    real_values= torch.cat((real_values,torch.unsqueeze(real_values[-1]+out[0,:,i],0)),0)\n",
    "segments =[]\n",
    "for i in range(1,real_values.shape[0]):   \n",
    "        segments.append(Line(complex(real_values[i-1,0],real_values[i-1,1]),complex(real_values[i,0],real_values[i,1])))\n",
    "segments.append(Line(complex(real_values[i,0],real_values[i,1]),complex()))\n",
    "wsvg(segments,filename='test_conv.svg') #nodes=[complex(),complex(real_values[real_values.shape[0]-1,0],real_values[real_values.shape[0]-1,1])],\n",
    "SVG('test_conv.svg') "
   ]
  },
  {
   "cell_type": "code",
   "execution_count": null,
   "metadata": {},
   "outputs": [],
   "source": []
  }
 ],
 "metadata": {
  "kernelspec": {
   "display_name": "Python 3",
   "language": "python",
   "name": "python3"
  },
  "language_info": {
   "codemirror_mode": {
    "name": "ipython",
    "version": 3
   },
   "file_extension": ".py",
   "mimetype": "text/x-python",
   "name": "python",
   "nbconvert_exporter": "python",
   "pygments_lexer": "ipython3",
   "version": "3.7.6"
  }
 },
 "nbformat": 4,
 "nbformat_minor": 4
}
