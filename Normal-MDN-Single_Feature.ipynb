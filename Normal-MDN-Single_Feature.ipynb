{
 "cells": [
  {
   "cell_type": "markdown",
   "metadata": {},
   "source": [
    "<svg width=\"300\" height=\"100\" xmlns=\"http://www.w3.org/2000/svg\">\n",
    "<line x1=\"10\" y1=\"10\" x2=\"290\" y2=\"10\" style=\"stroke:#000\">\n",
    "</line>\n",
    "<ellipse cx=\"150\" cy=\"50\" rx=\"20\" ry=\"20\" style=\"stroke:#000;fill:none;\"></ellipse>\n",
    "</svg>"
   ]
  },
  {
   "cell_type": "code",
   "execution_count": null,
   "metadata": {},
   "outputs": [],
   "source": [
    "from IPython.display import SVG\n",
    "import svgwrite\n",
    "import numpy as np\n",
    "import os\n",
    "import random\n",
    "import pandas as pd\n",
    "from random import randint\n",
    "import math\n",
    "import torch\n",
    "import torch.nn as nn\n",
    "import torch.nn.functional as F\n",
    "from torch.autograd import Variable\n",
    "import numpy as np\n",
    "from torch.distributions.categorical import Categorical\n",
    "from torch.distributions.normal import Normal\n",
    "from torch.distributions.multivariate_normal import MultivariateNormal\n",
    "import warnings\n",
    "import cmath\n",
    "from svgpathtools import *\n",
    "import math"
   ]
  },
  {
   "cell_type": "code",
   "execution_count": null,
   "metadata": {},
   "outputs": [],
   "source": [
    "cuda0 = torch.device('cuda:0')"
   ]
  },
  {
   "cell_type": "code",
   "execution_count": null,
   "metadata": {},
   "outputs": [],
   "source": [
    "paths, attributes, svg_attributes = svg2paths2('Minisample/leaves.svg')"
   ]
  },
  {
   "cell_type": "code",
   "execution_count": null,
   "metadata": {},
   "outputs": [],
   "source": [
    "n_seg = 80\n",
    "ts = np.array(range(n_seg+1))*1/n_seg"
   ]
  },
  {
   "cell_type": "code",
   "execution_count": null,
   "metadata": {},
   "outputs": [],
   "source": [
    "figures = []\n",
    "for path in paths:\n",
    "    figures.append([path.point(t) for t in ts])"
   ]
  },
  {
   "cell_type": "code",
   "execution_count": null,
   "metadata": {},
   "outputs": [],
   "source": [
    "def get_angle(point_t,point_t2):\n",
    "    diff = point_t2-point_t\n",
    "    #angle = math.atan(abs(diff.imag)/abs(diff.real))eeerrr\n",
    "    if diff.real < 0:\n",
    "        if diff.imag <=0:\n",
    "            angle = math.pi - math.atan(abs(diff.imag)/abs(diff.real))\n",
    "        else:\n",
    "            angle = math.pi + math.atan(abs(diff.imag)/abs(diff.real))\n",
    "    else:\n",
    "        if diff.imag > 0:\n",
    "            angle = 2*math.pi - math.atan(abs(diff.imag)/abs(diff.real))\n",
    "        else:\n",
    "            angle = math.atan(abs(diff.imag)/abs(diff.real))\n",
    "    if angle < 0:\n",
    "        print('angle generation error')\n",
    "    return angle        "
   ]
  },
  {
   "cell_type": "code",
   "execution_count": null,
   "metadata": {},
   "outputs": [],
   "source": [
    "# We shall try out real and delta angles \n",
    "def get_coord(angle,hyp):\n",
    "    if angle <0:\n",
    "        angle = 2*math.pi + angle\n",
    "    if angle > math.pi/2:\n",
    "        if angle >= 2*math.pi:\n",
    "            angle = angle - 2*math.pi\n",
    "        if angle <= math.pi:\n",
    "            temp_angle = math.pi - angle\n",
    "            x_delta = -math.cos(temp_angle)*hyp\n",
    "            y_delta = -math.sin(temp_angle)*hyp\n",
    "        elif angle <= 1.5*math.pi:\n",
    "            temp_angle = angle - math.pi\n",
    "            x_delta = -math.cos(temp_angle)*hyp\n",
    "            y_delta = math.sin(temp_angle)*hyp\n",
    "        elif angle <= 2*math.pi:\n",
    "            temp_angle = 2*math.pi - angle\n",
    "            x_delta = math.cos(temp_angle)*hyp\n",
    "            y_delta = math.sin(temp_angle)*hyp\n",
    "    else:\n",
    "        x_delta = math.cos(angle)*hyp\n",
    "        y_delta = -math.sin(angle)*hyp  \n",
    "    return (x_delta,y_delta)"
   ]
  },
  {
   "cell_type": "code",
   "execution_count": null,
   "metadata": {},
   "outputs": [],
   "source": [
    "training_data = []\n",
    "for points in figures:\n",
    "    angles = [0]\n",
    "    for i in range(1,n_seg+1):\n",
    "        angles.append(get_angle(points[i-1],points[i]))\n",
    "    angles = np.array(angles)[1:]-np.array(angles)[:-1]\n",
    "    training_data.append(angles)\n",
    "training_data = torch.unsqueeze(torch.tensor(training_data,dtype=torch.float,device=cuda0),2)"
   ]
  },
  {
   "cell_type": "code",
   "execution_count": null,
   "metadata": {},
   "outputs": [],
   "source": [
    "points = figures[2]"
   ]
  },
  {
   "cell_type": "markdown",
   "metadata": {},
   "source": [
    "##### Idea: first convert to the line format according to the necessary #of points and then split evenly (smallest element)\n",
    "##### Hierarchical generation - first generate the structure and then indicidual item\n",
    "##### conceptual learning"
   ]
  },
  {
   "cell_type": "code",
   "execution_count": null,
   "metadata": {},
   "outputs": [],
   "source": [
    "segments =[Line(points[0],points[1])]\n",
    "real_segments = []\n",
    "angles = []\n",
    "for i in range(1,n_seg+1):\n",
    "    angle = get_angle(points[i-1],points[i])\n",
    "    diff = points[i] - points[i-1]\n",
    "    #print(math.sqrt(math.pow(diff.real,2)+math.pow(diff.imag,2)))\n",
    "    angles.append(angle)\n",
    "    x_delta,y_delta = get_coord(angle,1)\n",
    "    shift = complex(20,0)\n",
    "    real_segments.append(Line(points[i-1] + shift,points[i] + shift))\n",
    "    segments.append(Line(segments[-1].end,segments[-1].end+complex(x_delta,y_delta)))\n",
    "wsvg(segments +real_segments, filename='test_single_model.svg')\n",
    "SVG('test_single_model.svg')"
   ]
  },
  {
   "cell_type": "code",
   "execution_count": null,
   "metadata": {},
   "outputs": [],
   "source": [
    "x = training_data[:,:-1,:]\n",
    "y = training_data[:,1:,:]"
   ]
  },
  {
   "cell_type": "code",
   "execution_count": null,
   "metadata": {},
   "outputs": [],
   "source": [
    "y[4,0,0]"
   ]
  },
  {
   "cell_type": "code",
   "execution_count": null,
   "metadata": {},
   "outputs": [],
   "source": [
    "x_batches = torch.split(x,50)"
   ]
  },
  {
   "cell_type": "code",
   "execution_count": null,
   "metadata": {},
   "outputs": [],
   "source": [
    "y_batches = torch.split(y,50)"
   ]
  },
  {
   "cell_type": "code",
   "execution_count": null,
   "metadata": {},
   "outputs": [],
   "source": [
    "class LSTMArtist(nn.Module):\n",
    "\n",
    "    def __init__(self, input_dim, hidden_dim, mix_k, num_layers=2,dropout=0.1): #, dropout=0.1\n",
    "        super(LSTMArtist, self).__init__()\n",
    "        \n",
    "        #self.cov = torch.eye(6)\n",
    "        #self.cov.requires_grad = True\n",
    "        \n",
    "        self.lstm = nn.LSTM(input_dim,hidden_dim,num_layers=num_layers, dropout=dropout, batch_first=True)\n",
    "        \n",
    "        self.linear_mu = nn.Linear(hidden_dim,mix_k)\n",
    "        self.linear_sigmasq = nn.Linear(hidden_dim,1)\n",
    "        self.linear_mix = nn.Linear(hidden_dim,mix_k)\n",
    "        \n",
    "        self.activation = nn.Tanh()\n",
    "        self.sigmoid = nn.Sigmoid()\n",
    "        self.softmax = nn.Softmax(dim=2)\n",
    "        self.relu = nn.ReLU()\n",
    "\n",
    "\n",
    "    def forward(self, x):\n",
    "        lstm_out, _ = self.lstm(x)\n",
    "        coordinates_mu = self.linear_mu(lstm_out)\n",
    "        coordinates_sigmasq = torch.exp(self.linear_sigmasq(lstm_out)) #torch.exp self.relu\n",
    "        coordinates_mix = self.softmax(self.linear_mix(lstm_out))\n",
    "        return (coordinates_mu,coordinates_sigmasq,coordinates_mix)"
   ]
  },
  {
   "cell_type": "code",
   "execution_count": null,
   "metadata": {},
   "outputs": [],
   "source": [
    "def gaussian_pdf(x, mu, sigmasq):\n",
    "    # NOTE: we could use the new `torch.distributions` package for this now\n",
    "    #print((-1/(2*sigmasq))* torch.norm((x-mu), 2, 2)**2)\n",
    "    #print(torch.exp((-1/(2*sigmasq))* torch.norm((x-mu), 2, 2)**2))\n",
    "    pdf = (1/torch.sqrt(2*np.pi*sigmasq)) * torch.exp(torch.min(torch.tensor(50).to(cuda0),torch.max(torch.tensor(-50).to(cuda0),(-1/(2*sigmasq))* torch.norm((x-mu), 2, 2)**2)))\n",
    "    return pdf"
   ]
  },
  {
   "cell_type": "code",
   "execution_count": null,
   "metadata": {},
   "outputs": [],
   "source": [
    "def calculate_loss(coordinates_mu,coordinates_sigmasq,coordinates_mix,k,y):\n",
    "    losses = torch.zeros(y.shape[0:2],device = cuda0)\n",
    "    for i in range(k):  # To Do: put k versions for method and absolute, add loss proportionally likelihood\n",
    "        likelihood_z_x = gaussian_pdf(y, coordinates_mu[:,:,i:(i+1)], coordinates_sigmasq[:,:, 0])\n",
    "        #print(likelihood_z_x)\n",
    "        losses += coordinates_mix[:,:,i] * likelihood_z_x\n",
    "    return torch.mean(-(torch.log(losses)))"
   ]
  },
  {
   "cell_type": "code",
   "execution_count": null,
   "metadata": {},
   "outputs": [],
   "source": [
    "k = 20\n",
    "model = LSTMArtist(1,16,k,dropout=0.2,num_layers=2).to(cuda0) #.to(cuda0) ,dropout=0.9\n",
    "##################\n",
    "#mse_loss = nn.MSELoss()\n",
    "lr = 0.5 # learning rate\n",
    "optimizer = torch.optim.SGD(model.parameters(), lr=lr)\n",
    "scheduler = torch.optim.lr_scheduler.StepLR(optimizer, 1.0, gamma=0.95)\n",
    "#################\n",
    "for epoch in range(20000):\n",
    "    if epoch % 1000 == 0:\n",
    "        print(\"Running epoch\",epoch)\n",
    "    total_loss = 0\n",
    "    for i,batch in enumerate(x_batches):\n",
    "        optimizer.zero_grad()\n",
    "        coordinates_mu,coordinates_sigmasq,coordinates_mix = model(batch)\n",
    "        #print(coordinates_sigmasq)\n",
    "        loss = calculate_loss(coordinates_mu,coordinates_sigmasq,coordinates_mix,k,y_batches[i])\n",
    "        #print(\">>>>>>>>>>>>>>>>>>>\",losses)\n",
    "        loss.backward()\n",
    "        torch.nn.utils.clip_grad_norm_(model.parameters(), 1) #what param to set here? (grads are exploding without cliping)\n",
    "        optimizer.step()\n",
    "        #print(output.size())\n",
    "        total_loss += loss.item()\n",
    "    if epoch % 1000 == 0:\n",
    "        print(total_loss) #with 10 epochs 7720 2.36"
   ]
  },
  {
   "cell_type": "code",
   "execution_count": null,
   "metadata": {},
   "outputs": [],
   "source": [
    "torch.save(model.state_dict(), 'model_MDM_MULti.model')"
   ]
  },
  {
   "cell_type": "code",
   "execution_count": null,
   "metadata": {},
   "outputs": [],
   "source": [
    "def random_sample(coordinates_mu,coordinates_sigmasq,coordinates_mix):\n",
    "    with torch.no_grad():\n",
    "        #coordinates_mu = coordinates_mu.cpu()\n",
    "        #coordinates_sigmasq = coordinates_sigmasq.cpu()\n",
    "        #coordinates_mix = coordinates_mix.cpu()\n",
    "\n",
    "        mix_dist = Categorical(coordinates_mix[0,0,:])\n",
    "        mix_index = mix_dist.sample()\n",
    "        mu = coordinates_mu[0,0,mix_index:(mix_index+1)]\n",
    "        sigma = torch.sqrt(coordinates_sigmasq)\n",
    "        sigma = torch.tensor([[[0.00001]]],device=cuda0)\n",
    "        angle = Normal(mu, sigma).sample()\n",
    "        #print(str_key,absolute,coordinates)\n",
    "        return angle"
   ]
  },
  {
   "cell_type": "code",
   "execution_count": null,
   "metadata": {},
   "outputs": [],
   "source": [
    "#vectors = start_vector        \n",
    "coordinates_mu,coordinates_sigmasq,coordinates_mix = model(vectors)\n",
    "angle = random_sample(coordinates_mu[:,-1:,:],coordinates_sigmasq[:,-1:,:],coordinates_mix[:,-1:,:])\n",
    "vectors = torch.cat((vectors,angle),1)"
   ]
  },
  {
   "cell_type": "code",
   "execution_count": null,
   "metadata": {},
   "outputs": [],
   "source": [
    "# Generate the picture from the trained model\n",
    "def generate_vectors(model,start_vector,iterations):\n",
    "    vectors = start_vector\n",
    "    for i in range(iterations):\n",
    "        coordinates_mu,coordinates_sigmasq,coordinates_mix = model(vectors)\n",
    "        angle = random_sample(coordinates_mu[:,-1:,:],coordinates_sigmasq[:,-1:,:],coordinates_mix[:,-1:,:])\n",
    "        vectors = torch.cat((vectors,angle),1)\n",
    "    return vectors"
   ]
  },
  {
   "cell_type": "code",
   "execution_count": null,
   "metadata": {},
   "outputs": [],
   "source": [
    "start_vector = torch.tensor([[[0.0]]],device=cuda0)\n",
    "vectors = generate_vectors(model,start_vector,80)\n",
    "vectors = vectors[0,:,0]\n",
    "real_angles = [0]\n",
    "for vector in vectors:\n",
    "    real_angles.append(real_angles[-1]+vector)"
   ]
  },
  {
   "cell_type": "code",
   "execution_count": null,
   "metadata": {},
   "outputs": [],
   "source": [
    "segments =[]\n",
    "for i in range(1,len(real_angles)):\n",
    "    x_delta,y_delta = get_coord(real_angles[i],1)\n",
    "    if i == 1:\n",
    "        segments.append(Line(complex(),complex(x_delta,y_delta)))\n",
    "    else:    \n",
    "        segments.append(Line(segments[-1].end,segments[-1].end+complex(x_delta,y_delta)))\n",
    "wsvg(segments, filename='test_algo_2.svg')\n",
    "SVG('test_algo_2.svg')"
   ]
  },
  {
   "cell_type": "code",
   "execution_count": null,
   "metadata": {},
   "outputs": [],
   "source": []
  }
 ],
 "metadata": {
  "kernelspec": {
   "display_name": "Python 3",
   "language": "python",
   "name": "python3"
  },
  "language_info": {
   "codemirror_mode": {
    "name": "ipython",
    "version": 3
   },
   "file_extension": ".py",
   "mimetype": "text/x-python",
   "name": "python",
   "nbconvert_exporter": "python",
   "pygments_lexer": "ipython3",
   "version": "3.7.6"
  }
 },
 "nbformat": 4,
 "nbformat_minor": 4
}
