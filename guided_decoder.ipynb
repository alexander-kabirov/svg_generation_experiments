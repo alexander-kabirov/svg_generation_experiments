{
 "cells": [
  {
   "cell_type": "code",
   "execution_count": null,
   "metadata": {},
   "outputs": [],
   "source": [
    "import IPython.display\n",
    "import svgwrite\n",
    "import numpy as np\n",
    "import os\n",
    "import random\n",
    "import pandas as pd\n",
    "from random import randint\n",
    "import math\n",
    "import torch\n",
    "import torch.nn as nn\n",
    "import torch.nn.functional as F\n",
    "from torch.autograd import Variable\n",
    "import numpy as np\n",
    "from torch.distributions.categorical import Categorical\n",
    "from torch.distributions.normal import Normal\n",
    "from torch.distributions.multivariate_normal import MultivariateNormal\n",
    "import warnings\n",
    "import cmath\n",
    "from svgpathtools import *\n",
    "import math\n",
    "from deepsvg.svglib.svg import SVG"
   ]
  },
  {
   "cell_type": "code",
   "execution_count": null,
   "metadata": {},
   "outputs": [],
   "source": [
    "import deepsvg.svglib.svg"
   ]
  },
  {
   "cell_type": "code",
   "execution_count": null,
   "metadata": {},
   "outputs": [],
   "source": [
    "cuda0 = torch.device('cuda:0')"
   ]
  },
  {
   "cell_type": "code",
   "execution_count": null,
   "metadata": {},
   "outputs": [],
   "source": [
    "paths, attributes, svg_attributes = svg2paths2('Minisample/leaves_base_2.svg')"
   ]
  },
  {
   "cell_type": "code",
   "execution_count": null,
   "metadata": {},
   "outputs": [],
   "source": [
    "wsvg(paths[60],filename='guided_01.svg')\n",
    "plant = SVG.load_svg('guided_01.svg').normalize().canonicalize() #.simplify_heuristic()\n",
    "plant.save_svg('guided_01.svg')\n",
    "new_path, _, _ = svg2paths2('guided_01.svg')\n",
    "nodes = []\n",
    "for segment in new_path[0]:\n",
    "    nodes.append(segment.end)\n",
    "wsvg(new_path,nodes=nodes,filename='guided_01_dots.svg') #\n",
    "IPython.display.SVG('guided_01_dots.svg')"
   ]
  },
  {
   "cell_type": "code",
   "execution_count": null,
   "metadata": {},
   "outputs": [],
   "source": [
    "path, attributes, svg_attributes = svg2paths2('guided_01.svg')\n",
    "end_points = [path[0].start]\n",
    "for segment in path[0]:\n",
    "    end_points.append(segment.end)\n",
    "end_points = np.array(end_points)\n",
    "print(end_points[np.where(np.sqrt((end_points[1:]-end_points[:-1]).real**2 + (end_points[1:]-end_points[:-1]).imag**2)<=1)])\n",
    "nodes = list(map(complex,end_points[np.where(np.sqrt((end_points[1:]-end_points[:-1]).real**2 + (end_points[1:]-end_points[:-1]).imag**2)<=1)]))\n",
    "wsvg(new_path,nodes=nodes,filename='guided_02_dots.svg') #\n",
    "IPython.display.SVG('guided_02_dots.svg')"
   ]
  },
  {
   "cell_type": "code",
   "execution_count": null,
   "metadata": {},
   "outputs": [],
   "source": [
    "paths, attributes, svg_attributes = svg2paths2('Minisample/leaves_base_2.svg')"
   ]
  },
  {
   "cell_type": "code",
   "execution_count": null,
   "metadata": {},
   "outputs": [],
   "source": [
    "len(paths)"
   ]
  },
  {
   "cell_type": "code",
   "execution_count": null,
   "metadata": {},
   "outputs": [],
   "source": [
    "def perform_transformations(points):\n",
    "    figures = [torch.unsqueeze(points,0)]\n",
    "    #figures.append(torch.unsqueeze(transformed_tensor(points,flip_x_matrix),0))\n",
    "    #figures.append(torch.unsqueeze(transformed_tensor(points,flip_y_matrix),0))\n",
    "    #figures.append(torch.unsqueeze(transformed_tensor(points,flip_o_matrix),0))\n",
    "    #figures.append(torch.unsqueeze(transformed_tensor(points,flip_xy_matrix),0))\n",
    "    return figures"
   ]
  },
  {
   "cell_type": "code",
   "execution_count": null,
   "metadata": {},
   "outputs": [],
   "source": [
    "n_seg = 584 #296#152 #produces equally sized vectors\n",
    "ts = np.array(range(n_seg+1))*1/n_seg\n",
    "inputs = []\n",
    "figures = []\n",
    "for i,path in enumerate(paths):\n",
    "    wsvg(path,filename='variable_01.svg')\n",
    "    plant = deepsvg.svglib.svg.SVG.load_svg('variable_01.svg').normalize().canonicalize()\n",
    "    plant.save_svg('variable_01.svg')\n",
    "    path, _, _ = svg2paths2('variable_01.svg')\n",
    "    path = path[0]\n",
    "    end_points = [path.start]\n",
    "    for segment in path:\n",
    "        end_points.append(segment.end)\n",
    "    end_points = np.array(end_points)\n",
    "        #print(end_points[np.where(np.sqrt((end_points[1:]-end_points[:-1]).real**2 + (end_points[1:]-end_points[:-1]).imag**2)<=0.5)])\n",
    "    key_points = torch.tensor(list(map(complex,end_points[np.where(np.sqrt((end_points[1:]-end_points[:-1]).real**2 + (end_points[1:]-end_points[:-1]).imag**2)<=1)]))) #.float())\n",
    "    if i==0 or i ==7:\n",
    "        print(key_points)\n",
    "    inputs.append(torch.unsqueeze(torch.cat((key_points,torch.zeros(10-len(key_points)))),0))\n",
    "    points = torch.tensor([[path.point(t).real,path.point(t).imag] for t in ts]).float()\n",
    "    figures += perform_transformations(points)\n",
    "input_data = torch.cat(inputs).to(cuda0)\n",
    "training_data = torch.cat(figures).to(cuda0) #dtype=torch.float,device=cuda0\n",
    "training_data = training_data[:,1:,:] - training_data[:,:-1,:] #OPTIONAL\n",
    "training_data = training_data.permute((0,2,1))\n",
    "print(input_data.shape,training_data.shape)"
   ]
  },
  {
   "cell_type": "code",
   "execution_count": null,
   "metadata": {},
   "outputs": [],
   "source": [
    "input_data_split = torch.cat((torch.unsqueeze(input_data.real.float(),1),torch.unsqueeze(input_data.imag.float(),1)),dim=1)"
   ]
  },
  {
   "cell_type": "code",
   "execution_count": null,
   "metadata": {},
   "outputs": [],
   "source": [
    "input_data_split = input_data_split[:,:,1:]-input_data_split[:,:,:-1]"
   ]
  },
  {
   "cell_type": "code",
   "execution_count": null,
   "metadata": {},
   "outputs": [],
   "source": [
    "input_data_split = input_data_split/torch.max(input_data_split)"
   ]
  },
  {
   "cell_type": "code",
   "execution_count": null,
   "metadata": {},
   "outputs": [],
   "source": [
    "input_data_split.shape"
   ]
  },
  {
   "cell_type": "code",
   "execution_count": null,
   "metadata": {},
   "outputs": [],
   "source": [
    "x_batches = torch.split(input_data_split,32)\n",
    "y_batches = torch.split(training_data,32)"
   ]
  },
  {
   "cell_type": "code",
   "execution_count": null,
   "metadata": {},
   "outputs": [],
   "source": [
    "class CNNArtist(nn.Module):\n",
    "\n",
    "    def __init__(self): #, dropout=0.1\n",
    "        super(CNNArtist, self).__init__()\n",
    "    \n",
    "        self.decoder = nn.Sequential(\n",
    "            nn.ConvTranspose1d(2, 2, kernel_size=5,stride=1),\n",
    "            nn.LeakyReLU(True),\n",
    "            nn.ConvTranspose1d(2, 2, kernel_size=5,stride=2),\n",
    "            nn.LeakyReLU(True),\n",
    "            nn.ConvTranspose1d(2, 2, kernel_size=4,stride=2),\n",
    "            nn.LeakyReLU(True),\n",
    "            nn.ConvTranspose1d(2, 2, kernel_size=5,stride=3),\n",
    "            nn.LeakyReLU(True),\n",
    "            nn.ConvTranspose1d(2, 2, kernel_size=5,stride=3),\n",
    "            nn.LeakyReLU(True),\n",
    "            nn.Linear(584,584)) \n",
    "    def forward(self, x):\n",
    "        return self.decoder(x)"
   ]
  },
  {
   "cell_type": "code",
   "execution_count": null,
   "metadata": {},
   "outputs": [],
   "source": [
    "class Artist(nn.Module):\n",
    "\n",
    "    def __init__(self): #, dropout=0.1\n",
    "        super(CNNArtist, self).__init__()\n",
    "    \n",
    "        self.decoder = nn.Sequential(\n",
    "            nn.ConvTranspose1d(2, 2, kernel_size=5,stride=1),\n",
    "            nn.LeakyReLU(True),\n",
    "            nn.ConvTranspose1d(2, 2, kernel_size=5,stride=2),\n",
    "            nn.LeakyReLU(True),\n",
    "            nn.ConvTranspose1d(2, 2, kernel_size=4,stride=2),\n",
    "            nn.LeakyReLU(True),\n",
    "            nn.ConvTranspose1d(2, 2, kernel_size=5,stride=3),\n",
    "            nn.LeakyReLU(True),\n",
    "            nn.ConvTranspose1d(2, 2, kernel_size=5,stride=3),\n",
    "            nn.LeakyReLU(True),\n",
    "            nn.Linear(584,584)) \n",
    "    def forward(self, x):\n",
    "        return self.decoder(x)"
   ]
  },
  {
   "cell_type": "code",
   "execution_count": null,
   "metadata": {},
   "outputs": [],
   "source": [
    "model = CNNArtist().to(cuda0)\n",
    "mse_loss = nn.MSELoss()\n",
    "#lr = 0.5 # learning rate\n",
    "#optimizer = torch.optim.SGD(model.parameters(), lr=lr)\n",
    "optimizer = torch.optim.Adam(model.parameters(),weight_decay=1e-5)\n",
    "for epoch in range(4000):\n",
    "    total_loss = 0\n",
    "    for i,batch in enumerate(x_batches):\n",
    "        optimizer.zero_grad()\n",
    "        rec = model(batch)\n",
    "        loss = mse_loss(rec,y_batches[i])\n",
    "        loss.backward()\n",
    "        torch.nn.utils.clip_grad_norm_(model.parameters(), 1) #what param to set here? (grads are exploding without cliping)\n",
    "        optimizer.step()\n",
    "        total_loss += loss.item()\n",
    "    if epoch % 100 == 0:\n",
    "        print(total_loss) #with 10 epochs 7720 2.36    "
   ]
  },
  {
   "cell_type": "code",
   "execution_count": null,
   "metadata": {},
   "outputs": [],
   "source": [
    "s = 6 #0.006\n",
    "out = model(x_batches[0][s:s+1,:,:])\n",
    "#out = y_batches[0][s:s+1,:,:]\n",
    "real_values = torch.tensor([[0.0,0.0]],device=cuda0)\n",
    "for i in range(1,out.shape[2]):\n",
    "    real_values= torch.cat((real_values,torch.unsqueeze(real_values[-1]+out[0,:,i],0)),0)\n",
    "print(real_values.shape)\n",
    "segments =[]\n",
    "for i in range(1,real_values.shape[0]):   \n",
    "        segments.append(Line(complex(real_values[i-1,0],real_values[i-1,1]),complex(real_values[i,0],real_values[i,1])))\n",
    "segments.append(Line(complex(real_values[i,0],real_values[i,1]),complex()))\n",
    "wsvg(segments,filename='test_conv_rec.svg') #nodes=[complex(),complex(real_values[real_values.shape[0]-1,0],real_values[real_values.shape[0]-1,1])],\n",
    "IPython.display.SVG('test_conv_rec.svg') "
   ]
  },
  {
   "cell_type": "code",
   "execution_count": null,
   "metadata": {},
   "outputs": [],
   "source": [
    "s = 60 #0.006\n",
    "#out = model(x_batches[0][s:s+1,:,:])\n",
    "real_values = input_data_split[s,:,:].permute((1,0))[:7,:]\n",
    "print(real_values)\n",
    "segments =[]\n",
    "for i in range(1,real_values.shape[0]):   \n",
    "        segments.append(Line(complex(real_values[i-1,0],real_values[i-1,1]),complex(real_values[i,0],real_values[i,1])))\n",
    "#segments.append(Line(complex(real_values[i,0],real_values[i,1]),complex()))\n",
    "print(segments)\n",
    "nodes = []\n",
    "for i in range(real_values.shape[0]):\n",
    "    nodes.append(complex(real_values[i,0],real_values[i,1]))\n",
    "wsvg(segments,nodes = nodes,filename='test_conv_rec_dots.svg') #nodes=[complex(),complex(real_values[real_values.shape[0]-1,0],real_values[real_values.shape[0]-1,1])],\n",
    "IPython.display.SVG('test_conv_rec_dots.svg') "
   ]
  },
  {
   "cell_type": "code",
   "execution_count": null,
   "metadata": {},
   "outputs": [],
   "source": [
    "real_values"
   ]
  },
  {
   "cell_type": "code",
   "execution_count": null,
   "metadata": {},
   "outputs": [],
   "source": []
  }
 ],
 "metadata": {
  "kernelspec": {
   "display_name": "Python 3",
   "language": "python",
   "name": "python3"
  },
  "language_info": {
   "codemirror_mode": {
    "name": "ipython",
    "version": 3
   },
   "file_extension": ".py",
   "mimetype": "text/x-python",
   "name": "python",
   "nbconvert_exporter": "python",
   "pygments_lexer": "ipython3",
   "version": "3.7.6"
  }
 },
 "nbformat": 4,
 "nbformat_minor": 4
}
